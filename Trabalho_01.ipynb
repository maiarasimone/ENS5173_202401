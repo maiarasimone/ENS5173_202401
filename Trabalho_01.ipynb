{
 "cells": [
  {
   "cell_type": "code",
   "execution_count": null,
   "id": "7f6de275-c4d5-4d42-8570-dacf5787856c",
   "metadata": {},
   "outputs": [],
   "source": [
    "utilizei capítulo   da AP42, pois meu empreendimento é uma industria de papel "
   ]
  },
  {
   "cell_type": "code",
   "execution_count": null,
   "id": "48d783b5-bd56-48d9-9c36-3f27d998a6ea",
   "metadata": {},
   "outputs": [],
   "source": [
    "#utilizando Panfas para abrir a planilha \n",
    "import panda as pd\n",
    "import os\n",
    "\n",
    "#Coletando o caminho da pasta que estou\n",
    "cwd= os.getcwd()\n",
    "\n",
    "\n",
    "#Pasta dos fatores de emissão\n",
    "path = cwd+'\\\\tabelas\\\\FE'\n",
    "print (path)\n",
    "\n",
    "#indicando nome do arquivo \n",
    "chapterNumber = 11\n",
    "subChapter = 7\n",
    "file= 'chp_'+str(chapterNumer)+'_'+(subChapter)+'.csv\n",
    "fe= pd.read_csv(path + '\\\\'+file)\n",
    "print(fe)\n",
    "\n"
   ]
  },
  {
   "cell_type": "code",
   "execution_count": null,
   "id": "fff821dd-e309-467e-aa9e-228261de0a59",
   "metadata": {},
   "outputs": [],
   "source": [
    "#plotando os fatores de emissão\n",
    "import matplotlib.pyplot as plt\n",
    "\n",
    "atv = 1000\n",
    "emis = fe['PM']*atv\n",
    "\n",
    "fig,ax= plt.subplots()\n",
    "fe['PM']."
   ]
  }
 ],
 "metadata": {
  "kernelspec": {
   "display_name": "Python 3 (ipykernel)",
   "language": "python",
   "name": "python3"
  },
  "language_info": {
   "codemirror_mode": {
    "name": "ipython",
    "version": 3
   },
   "file_extension": ".py",
   "mimetype": "text/x-python",
   "name": "python",
   "nbconvert_exporter": "python",
   "pygments_lexer": "ipython3",
   "version": "3.11.8"
  }
 },
 "nbformat": 4,
 "nbformat_minor": 5
}
