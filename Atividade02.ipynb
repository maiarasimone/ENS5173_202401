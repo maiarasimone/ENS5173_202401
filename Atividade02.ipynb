{
 "cells": [
  {
   "cell_type": "markdown",
   "id": "d11a9567-a342-4d98-9ac8-2dbd91e7e345",
   "metadata": {},
   "source": [
    "## Caracterização meteorólogica da área de estudo\n",
    "\n",
    "Nesta atividade caracterizaremos a meteorologia da área de estudo. Avaliaremos os seguintes pontos:\n",
    "\n",
    "1. Meteorologia de superficie\n",
    "2.  Meteorologia upperair ou sondagem/ perfil da atmosfera\n",
    "3. Superficie - Albedo, razao de bowen e Rugosidade"
   ]
  },
  {
   "cell_type": "code",
   "execution_count": null,
   "id": "d043ab99-efbb-4c77-b817-af9379a34a65",
   "metadata": {},
   "outputs": [],
   "source": []
  },
  {
   "cell_type": "code",
   "execution_count": 15,
   "id": "b3bf1bfd-b49d-4489-aae0-dc96c9dd011c",
   "metadata": {},
   "outputs": [
    {
     "name": "stdout",
     "output_type": "stream",
     "text": [
      "C:\\Users\\sergi\\OneDrive\\Documentos\\GitHub\\ENS5173_202401\n",
      "C:\\Users\\sergi\\OneDrive\\Documentos\\GitHub\\ENS5173_202401\\inputs\\meteoSuperficie\n",
      "['metar_2022.csv.csv', 'metar_2023.csv.csv']\n"
     ]
    }
   ],
   "source": [
    "import os \n",
    "#Pegando o caminho di diretório que estou\n",
    "rootPath = os.getcwd()\n",
    "print(rootPath)\n",
    "\n",
    "#Definindo o diretório com os arquivos metar\n",
    "metSuperficiePath = rootPath +'\\\\inputs\\\\meteoSuperficie'\n",
    "print(metSuperficiePath)\n",
    "\n",
    "files = os.listdir(metSuperficiePath)\n",
    "print(files)"
   ]
  },
  {
   "cell_type": "code",
   "execution_count": 16,
   "id": "90113bbb-24bc-43f4-b888-382be070f9f0",
   "metadata": {},
   "outputs": [
    {
     "name": "stdout",
     "output_type": "stream",
     "text": [
      "      day  month  year  hour  ct     wd        ws      hc  ccp  cco  \\\n",
      "0       1      1  2022     0 NaN  120.0  1.543332   914.4  1.0  1.0   \n",
      "1       1      1  2022     1 NaN  280.0  1.028888     NaN  NaN  NaN   \n",
      "2       1      1  2022     2 NaN    NaN  0.514444     NaN  NaN  NaN   \n",
      "3       1      1  2022     3 NaN    NaN  1.028888   457.2  1.0  1.0   \n",
      "4       1      1  2022     4 NaN    NaN  1.028888     NaN  NaN  NaN   \n",
      "...   ...    ...   ...   ...  ..    ...       ...     ...  ...  ...   \n",
      "8753   31     12  2023    19 NaN  110.0  4.629996  2438.4  6.0  6.0   \n",
      "8754   31     12  2023    20 NaN  130.0  3.601108  2438.4  6.0  6.0   \n",
      "8755   31     12  2023    21 NaN  120.0  2.057776  2438.4  6.0  6.0   \n",
      "8756   31     12  2023    22 NaN  190.0  2.057776  2438.4  6.0  6.0   \n",
      "8757   31     12  2023    23 NaN  140.0  2.057776  2438.4  6.0  6.0   \n",
      "\n",
      "                p  temp  dpTemp  vis   pw    relh  \n",
      "0     1009.678792  23.0    21.0  NaN  0.0   88.51  \n",
      "1     1009.685980  20.0    20.0  NaN  0.0  100.00  \n",
      "2     1009.678792  22.0    21.0  NaN  0.0   94.06  \n",
      "3     1009.682386  21.0    21.0  NaN  0.0  100.00  \n",
      "4     1009.685980  22.0    20.0  NaN  0.0   88.43  \n",
      "...           ...   ...     ...  ...  ...     ...  \n",
      "8753  1009.651241  25.0    18.0  NaN  0.0   65.12  \n",
      "8754  1009.651241  24.0    18.0  NaN  0.0   69.14  \n",
      "8755  1009.654835  24.0    18.0  NaN  0.0   69.14  \n",
      "8756  1009.654835  23.0    19.0  NaN  0.0   78.19  \n",
      "8757  1009.651241  23.0    18.0  NaN  0.0   73.44  \n",
      "\n",
      "[17515 rows x 16 columns]\n"
     ]
    }
   ],
   "source": [
    "import pandas as pd\n",
    "\n",
    "metSuperficie=[]\n",
    "for file in files:\n",
    "    metSuperficie.append(pd.read_csv(metSuperficiePath+'\\\\'+file))\n",
    "\n",
    "#Convertendo  metSuperficie para Data Frame\n",
    "\n",
    "metSuperficie = pd.concat(metSuperficie)\n",
    "print(metSuperficie)"
   ]
  },
  {
   "cell_type": "code",
   "execution_count": null,
   "id": "7d1cb79a-d165-48e8-ac64-c71dbf899ba9",
   "metadata": {},
   "outputs": [],
   "source": [
    "#Criar uma coluna com Datetime dos dados\n",
    "\n",
    "metSuperficie ['datetime'] = pd.to_datetime(metSuperficie[['year', 'month', 'day', 'hour']])\n",
    "print(metSuperficie['datetime'])\n",
    "\n",
    "#Definido a coluna de datetime\n",
    "metSuperficie.set_index(metSuperficie['datetime'])"
   ]
  },
  {
   "cell_type": "code",
   "execution_count": null,
   "id": "c59c3226-2c31-46e3-afe6-a98f2e04d464",
   "metadata": {},
   "outputs": [],
   "source": [
    "imoport matplotlib.pyplot as plt\n",
    "\n",
    "fig,ax= plt.subplot(4)\n",
    "ax[0].plot(metSuperficie['datetime'], metSupeficie['temp'])\n",
    "ax[1].plot(metSuperficie['datetime'], metSuperficie['p']"
   ]
  }
 ],
 "metadata": {
  "kernelspec": {
   "display_name": "Python 3 (ipykernel)",
   "language": "python",
   "name": "python3"
  },
  "language_info": {
   "codemirror_mode": {
    "name": "ipython",
    "version": 3
   },
   "file_extension": ".py",
   "mimetype": "text/x-python",
   "name": "python",
   "nbconvert_exporter": "python",
   "pygments_lexer": "ipython3",
   "version": "3.11.8"
  }
 },
 "nbformat": 4,
 "nbformat_minor": 5
}
