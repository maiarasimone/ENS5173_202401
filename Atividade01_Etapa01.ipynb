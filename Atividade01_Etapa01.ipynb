{
 "cells": [
  {
   "cell_type": "markdown",
   "id": "9925110b-6a42-4628-87ff-202a93968959",
   "metadata": {},
   "source": [
    "## Aula 02 - Python\n",
    "\n",
    "## Dados numéricos"
   ]
  },
  {
   "cell_type": "code",
   "execution_count": 4,
   "id": "049a437e-da79-43f8-bd82-c7a967e41c11",
   "metadata": {},
   "outputs": [
    {
     "name": "stdout",
     "output_type": "stream",
     "text": [
      "Valor de a = 1\n"
     ]
    },
    {
     "data": {
      "text/plain": [
       "int"
      ]
     },
     "execution_count": 4,
     "metadata": {},
     "output_type": "execute_result"
    }
   ],
   "source": [
    "# Variável inteira\n",
    "a = 1\n",
    "print('Valor de a = '+str(a))\n",
    "type(a)\n"
   ]
  },
  {
   "cell_type": "code",
   "execution_count": 5,
   "id": "c169334c-b2e5-4353-8d48-799e43b2138e",
   "metadata": {},
   "outputs": [
    {
     "name": "stdout",
     "output_type": "stream",
     "text": [
      "1.0\n"
     ]
    },
    {
     "data": {
      "text/plain": [
       "float"
      ]
     },
     "execution_count": 5,
     "metadata": {},
     "output_type": "execute_result"
    }
   ],
   "source": [
    "\n",
    "# Variável dupla precisão\n",
    "b = 1.0\n",
    "print(b)\n",
    "type(b)"
   ]
  },
  {
   "cell_type": "code",
   "execution_count": 6,
   "id": "289ded74-131e-4144-90c7-2bd027d642f4",
   "metadata": {},
   "outputs": [
    {
     "name": "stdout",
     "output_type": "stream",
     "text": [
      "1\n"
     ]
    },
    {
     "data": {
      "text/plain": [
       "int"
      ]
     },
     "execution_count": 6,
     "metadata": {},
     "output_type": "execute_result"
    }
   ],
   "source": [
    "# Converter float para int\n",
    "c = int(b)\n",
    "print(c)\n",
    "type(c)\n"
   ]
  },
  {
   "cell_type": "code",
   "execution_count": 7,
   "id": "d51499ea-a5b7-4618-b686-8761f8a002eb",
   "metadata": {},
   "outputs": [
    {
     "name": "stdout",
     "output_type": "stream",
     "text": [
      "nan\n"
     ]
    },
    {
     "data": {
      "text/plain": [
       "float"
      ]
     },
     "execution_count": 7,
     "metadata": {},
     "output_type": "execute_result"
    }
   ],
   "source": [
    "# Delacrando nan\n",
    "import numpy as np\n",
    "d = np.nan\n",
    "print(d)\n",
    "type(d)"
   ]
  },
  {
   "cell_type": "code",
   "execution_count": 8,
   "id": "b8c107fe-3cc9-41be-b7ad-8d187b23418e",
   "metadata": {},
   "outputs": [
    {
     "name": "stdout",
     "output_type": "stream",
     "text": [
      "nan\n",
      "nan\n",
      "1.0\n"
     ]
    }
   ],
   "source": [
    "# Operação com NaN\n",
    "e = d*1\n",
    "print(e)\n",
    "e = d+1\n",
    "print(e)\n",
    "e = np.nansum([d,1])\n",
    "print(e)"
   ]
  },
  {
   "cell_type": "markdown",
   "id": "bafec9fc-18b6-4fca-9b25-afcc6a9214a9",
   "metadata": {},
   "source": [
    "## Dados de texto\n"
   ]
  },
  {
   "cell_type": "code",
   "execution_count": 9,
   "id": "3d4edc21-99ee-443b-95fb-27b205ef1fba",
   "metadata": {},
   "outputs": [
    {
     "name": "stdout",
     "output_type": "stream",
     "text": [
      "Fábio\n",
      "Gabriel\n",
      "FábioGabriel\n",
      "Fábio Gabriel\n"
     ]
    }
   ],
   "source": [
    "# Declaração de variável texto\n",
    "f = 'Fábio'\n",
    "g = \"Gabriel\"\n",
    "print(f)\n",
    "print(g)\n",
    "print(f+g)\n",
    "print(f+' '+g)"
   ]
  },
  {
   "cell_type": "markdown",
   "id": "88114a71-dfc4-4c7e-9713-65a48a1cc562",
   "metadata": {},
   "source": [
    "## Dados tipo bool - lógica\n",
    "\n"
   ]
  },
  {
   "cell_type": "code",
   "execution_count": 10,
   "id": "4a3c19eb-e518-4c30-b087-aee2fdd39792",
   "metadata": {},
   "outputs": [
    {
     "data": {
      "text/plain": [
       "True"
      ]
     },
     "execution_count": 10,
     "metadata": {},
     "output_type": "execute_result"
    }
   ],
   "source": [
    "\n",
    "a == 1"
   ]
  },
  {
   "cell_type": "code",
   "execution_count": 11,
   "id": "83c4cf1f-008b-4ea3-aa3b-9763f604eaca",
   "metadata": {},
   "outputs": [
    {
     "name": "stdout",
     "output_type": "stream",
     "text": [
      "True\n"
     ]
    },
    {
     "data": {
      "text/plain": [
       "bool"
      ]
     },
     "execution_count": 11,
     "metadata": {},
     "output_type": "execute_result"
    }
   ],
   "source": [
    "h = (a==1)\n",
    "print(h)\n",
    "type(h)"
   ]
  },
  {
   "cell_type": "code",
   "execution_count": 12,
   "id": "8c99a0c5-7d42-475f-b078-f2ddb2db2dd0",
   "metadata": {},
   "outputs": [
    {
     "name": "stdout",
     "output_type": "stream",
     "text": [
      "False\n"
     ]
    },
    {
     "data": {
      "text/plain": [
       "bool"
      ]
     },
     "execution_count": 12,
     "metadata": {},
     "output_type": "execute_result"
    }
   ],
   "source": [
    "h = (a==2)\n",
    "print(h)\n",
    "type(h)"
   ]
  },
  {
   "cell_type": "code",
   "execution_count": 13,
   "id": "57c32891-7e4d-43f4-9017-08ac7e1f2bf3",
   "metadata": {},
   "outputs": [
    {
     "data": {
      "text/plain": [
       "bool"
      ]
     },
     "execution_count": 13,
     "metadata": {},
     "output_type": "execute_result"
    }
   ],
   "source": [
    "i = True\n",
    "type(i)"
   ]
  },
  {
   "cell_type": "code",
   "execution_count": 14,
   "id": "306d1273-2add-48f4-aa22-8137c969c272",
   "metadata": {},
   "outputs": [
    {
     "data": {
      "text/plain": [
       "str"
      ]
     },
     "execution_count": 14,
     "metadata": {},
     "output_type": "execute_result"
    }
   ],
   "source": [
    "ii = 'True'\n",
    "type(ii)"
   ]
  },
  {
   "cell_type": "markdown",
   "id": "e249dafd-e9ba-4963-b2ee-bba8ceb07f81",
   "metadata": {},
   "source": [
    "## Operação de comparação"
   ]
  },
  {
   "cell_type": "code",
   "execution_count": 16,
   "id": "bd14ea34-ab64-4961-a9c8-7d0849e8f3a6",
   "metadata": {},
   "outputs": [
    {
     "data": {
      "text/plain": [
       "True"
      ]
     },
     "execution_count": 16,
     "metadata": {},
     "output_type": "execute_result"
    }
   ],
   "source": [
    "# Operação ==\n",
    "a==b"
   ]
  },
  {
   "cell_type": "code",
   "execution_count": 17,
   "id": "7b208ead-387d-4e1c-b679-4b5cb8b0740a",
   "metadata": {},
   "outputs": [
    {
     "data": {
      "text/plain": [
       "False"
      ]
     },
     "execution_count": 17,
     "metadata": {},
     "output_type": "execute_result"
    }
   ],
   "source": [
    "\n",
    "# Operação ><\n",
    "a>b"
   ]
  },
  {
   "cell_type": "code",
   "execution_count": 18,
   "id": "b1a78e36-0940-4f2c-86fa-c484bb15444d",
   "metadata": {},
   "outputs": [
    {
     "data": {
      "text/plain": [
       "False"
      ]
     },
     "execution_count": 18,
     "metadata": {},
     "output_type": "execute_result"
    }
   ],
   "source": [
    "# Operação !=\n",
    "a!=b"
   ]
  },
  {
   "cell_type": "code",
   "execution_count": 19,
   "id": "5deed249-60b5-4896-ae49-804c209fac9a",
   "metadata": {},
   "outputs": [
    {
     "data": {
      "text/plain": [
       "True"
      ]
     },
     "execution_count": 19,
     "metadata": {},
     "output_type": "execute_result"
    }
   ],
   "source": [
    "# Operação >= ou <=\n",
    "a>=b"
   ]
  },
  {
   "cell_type": "markdown",
   "id": "9db39dd9-9a29-4539-bd0c-d16c6e143e53",
   "metadata": {},
   "source": [
    "## Operações matemáticas\n"
   ]
  },
  {
   "cell_type": "code",
   "execution_count": 20,
   "id": "8424b737-4e67-4641-91ef-168663125c58",
   "metadata": {},
   "outputs": [
    {
     "data": {
      "text/plain": [
       "2.0"
      ]
     },
     "execution_count": 20,
     "metadata": {},
     "output_type": "execute_result"
    }
   ],
   "source": [
    "# Soma \n",
    "a+b"
   ]
  },
  {
   "cell_type": "code",
   "execution_count": 21,
   "id": "b67131c4-4886-4602-a538-d21f7cc08e70",
   "metadata": {},
   "outputs": [
    {
     "name": "stdout",
     "output_type": "stream",
     "text": [
      "2.0\n"
     ]
    }
   ],
   "source": [
    "# Soma e atribui valor\n",
    "ab = a+b\n",
    "print(ab)"
   ]
  },
  {
   "cell_type": "code",
   "execution_count": 22,
   "id": "4e658112-08b5-48a7-8a93-be4951fecb2b",
   "metadata": {},
   "outputs": [
    {
     "name": "stdout",
     "output_type": "stream",
     "text": [
      "Não use l como nome de variável\n",
      "1.0\n"
     ]
    }
   ],
   "source": [
    "# Multiplicação\n",
    "l = a*b # Não use l como variável\n",
    "print(\"Não use l como nome de variável\")\n",
    "j = a*b\n",
    "print(j)"
   ]
  },
  {
   "cell_type": "code",
   "execution_count": 23,
   "id": "8a199f01-45d0-43d1-9ba3-dd9582226c49",
   "metadata": {},
   "outputs": [
    {
     "data": {
      "text/plain": [
       "1.0"
      ]
     },
     "execution_count": 23,
     "metadata": {},
     "output_type": "execute_result"
    }
   ],
   "source": [
    "# Divisão\n",
    "a/b"
   ]
  },
  {
   "cell_type": "code",
   "execution_count": 24,
   "id": "697d203b-2f5f-4837-b665-e637987a14ec",
   "metadata": {},
   "outputs": [
    {
     "data": {
      "text/plain": [
       "25"
      ]
     },
     "execution_count": 24,
     "metadata": {},
     "output_type": "execute_result"
    }
   ],
   "source": [
    "# Potencia\n",
    "5**2"
   ]
  },
  {
   "cell_type": "code",
   "execution_count": 25,
   "id": "9c4fc54f-44bf-43ba-bd65-9dd646f10754",
   "metadata": {},
   "outputs": [
    {
     "data": {
      "text/plain": [
       "22026.465794806718"
      ]
     },
     "execution_count": 25,
     "metadata": {},
     "output_type": "execute_result"
    }
   ],
   "source": [
    "# Operações matemáticas com a bibliotéca math\n",
    "import math\n",
    "\n",
    "math.exp(10)"
   ]
  },
  {
   "cell_type": "code",
   "execution_count": 26,
   "id": "88d93e5a-05be-40da-aee7-b25766678856",
   "metadata": {},
   "outputs": [
    {
     "data": {
      "text/plain": [
       "1.0"
      ]
     },
     "execution_count": 26,
     "metadata": {},
     "output_type": "execute_result"
    }
   ],
   "source": [
    "math.exp(0)"
   ]
  },
  {
   "cell_type": "code",
   "execution_count": 27,
   "id": "af141d16-2d31-4442-839e-f79fcb90e22d",
   "metadata": {},
   "outputs": [
    {
     "data": {
      "text/plain": [
       "2.718281828459045"
      ]
     },
     "execution_count": 27,
     "metadata": {},
     "output_type": "execute_result"
    }
   ],
   "source": [
    "math.exp(a)"
   ]
  },
  {
   "cell_type": "code",
   "execution_count": 28,
   "id": "d8542ff6-15e8-423b-a869-e00e24dcde74",
   "metadata": {},
   "outputs": [
    {
     "data": {
      "text/plain": [
       "4.5399929762484854e-05"
      ]
     },
     "execution_count": 28,
     "metadata": {},
     "output_type": "execute_result"
    }
   ],
   "source": [
    "math.exp(-10)"
   ]
  },
  {
   "cell_type": "code",
   "execution_count": 29,
   "id": "a6863886-f3b0-48df-b8f3-08f05f606b8a",
   "metadata": {},
   "outputs": [
    {
     "data": {
      "text/plain": [
       "0.0"
      ]
     },
     "execution_count": 29,
     "metadata": {},
     "output_type": "execute_result"
    }
   ],
   "source": [
    "import math as mt\n",
    "mt.log(c)"
   ]
  },
  {
   "cell_type": "code",
   "execution_count": 30,
   "id": "f7b716c7-d79f-4a95-b640-7bfd51d89fa1",
   "metadata": {},
   "outputs": [
    {
     "data": {
      "text/plain": [
       "2.0"
      ]
     },
     "execution_count": 30,
     "metadata": {},
     "output_type": "execute_result"
    }
   ],
   "source": [
    "mt.log10(100)"
   ]
  },
  {
   "cell_type": "markdown",
   "id": "2adf8ee8-b7eb-43d1-8886-a33d69b9120c",
   "metadata": {},
   "source": [
    "## Listas "
   ]
  },
  {
   "cell_type": "code",
   "execution_count": 31,
   "id": "965c1c82-8a34-449b-bff6-39da78e622d9",
   "metadata": {},
   "outputs": [
    {
     "name": "stdout",
     "output_type": "stream",
     "text": [
      "[1, 2, 3]\n"
     ]
    }
   ],
   "source": [
    "myFirstList = [1,2,3]\n",
    "print(myFirstList)"
   ]
  },
  {
   "cell_type": "code",
   "execution_count": 32,
   "id": "4afc1bc7-f165-4066-ba60-b5682a458029",
   "metadata": {},
   "outputs": [
    {
     "name": "stdout",
     "output_type": "stream",
     "text": [
      "1\n",
      "3\n"
     ]
    }
   ],
   "source": [
    "# Acessando valores da lista pelo index\n",
    "print(myFirstList[0])\n",
    "print(myFirstList[2])"
   ]
  },
  {
   "cell_type": "code",
   "execution_count": 33,
   "id": "1cee7a5e-de88-4238-8940-b72d6a6b785c",
   "metadata": {},
   "outputs": [
    {
     "data": {
      "text/plain": [
       "False"
      ]
     },
     "execution_count": 33,
     "metadata": {},
     "output_type": "execute_result"
    }
   ],
   "source": [
    "myFirstList==a"
   ]
  },
  {
   "cell_type": "code",
   "execution_count": 34,
   "id": "6f8f0ab7-bb55-4bb7-af69-ee8c2ef44bd5",
   "metadata": {},
   "outputs": [
    {
     "data": {
      "text/plain": [
       "True"
      ]
     },
     "execution_count": 34,
     "metadata": {},
     "output_type": "execute_result"
    }
   ],
   "source": [
    "myFirstList[0]==a"
   ]
  },
  {
   "cell_type": "code",
   "execution_count": 35,
   "id": "df381f41-4ac6-4039-94cf-8831d7d60ea3",
   "metadata": {},
   "outputs": [
    {
     "name": "stdout",
     "output_type": "stream",
     "text": [
      "[1, 1, 'c']\n"
     ]
    }
   ],
   "source": [
    "mySecList = [1,a,'c']\n",
    "print(mySecList)"
   ]
  },
  {
   "cell_type": "code",
   "execution_count": 36,
   "id": "1e3ee7d2-956c-4ec7-9468-aea4be1ed5dc",
   "metadata": {},
   "outputs": [
    {
     "data": {
      "text/plain": [
       "list"
      ]
     },
     "execution_count": 36,
     "metadata": {},
     "output_type": "execute_result"
    }
   ],
   "source": [
    "type(mySecList)"
   ]
  },
  {
   "cell_type": "code",
   "execution_count": 37,
   "id": "6e8b2b77-048d-42c9-9132-15b3f6f4df52",
   "metadata": {},
   "outputs": [
    {
     "data": {
      "text/plain": [
       "str"
      ]
     },
     "execution_count": 37,
     "metadata": {},
     "output_type": "execute_result"
    }
   ],
   "source": [
    "\n",
    "type(mySecList[2])"
   ]
  },
  {
   "cell_type": "code",
   "execution_count": 38,
   "id": "c8023309-96d7-4880-a9a0-048160489166",
   "metadata": {},
   "outputs": [
    {
     "data": {
      "text/plain": [
       "int"
      ]
     },
     "execution_count": 38,
     "metadata": {},
     "output_type": "execute_result"
    }
   ],
   "source": [
    "type(mySecList[1])"
   ]
  },
  {
   "cell_type": "markdown",
   "id": "77e95fce-0a36-4f1b-ab5e-d7ddb9591a67",
   "metadata": {},
   "source": [
    "## Caminhos = path"
   ]
  },
  {
   "cell_type": "code",
   "execution_count": 43,
   "id": "0663a3cb-824f-4d46-b500-93f1d33f06fe",
   "metadata": {},
   "outputs": [
    {
     "name": "stdout",
     "output_type": "stream",
     "text": [
      "C:\\Users\\sergi\\OneDrive\\Documentos\\GitHub\\ENS5173_202401\n"
     ]
    }
   ],
   "source": [
    "path = r\"C:\\Users\\sergi\\OneDrive\\Documentos\\GitHub\\ENS5173_202401\"\n",
    "print(path)"
   ]
  },
  {
   "cell_type": "code",
   "execution_count": 45,
   "id": "56df3aa9-fa63-4fa9-b081-6748b165ca20",
   "metadata": {},
   "outputs": [
    {
     "name": "stdout",
     "output_type": "stream",
     "text": [
      "C:\\Users\\sergi\\OneDrive\\Documentos\\GitHub\\ENS5173_202401\n"
     ]
    }
   ],
   "source": [
    "path = r\"C:\\Users\\sergi\\OneDrive\\Documentos\\GitHub\\ENS5173_202401\"\n",
    "print(path)"
   ]
  },
  {
   "cell_type": "code",
   "execution_count": 46,
   "id": "4c120714-bd9e-4be6-b103-9190bdd380b6",
   "metadata": {},
   "outputs": [
    {
     "data": {
      "text/plain": [
       "['.git',\n",
       " '.gitignore',\n",
       " 'Aula01.ipynb',\n",
       " 'inputs',\n",
       " 'README.md',\n",
       " 'scripts',\n",
       " 'shapefile',\n",
       " 'vend',\n",
       " 'venv']"
      ]
     },
     "execution_count": 46,
     "metadata": {},
     "output_type": "execute_result"
    }
   ],
   "source": [
    "import os\n",
    "# Listar arquivos na pasta\n",
    "os.listdir(path)"
   ]
  },
  {
   "cell_type": "code",
   "execution_count": 47,
   "id": "7b2cf4e0-3377-4c46-952b-65de39485366",
   "metadata": {},
   "outputs": [
    {
     "data": {
      "text/plain": [
       "'.git'"
      ]
     },
     "execution_count": 47,
     "metadata": {},
     "output_type": "execute_result"
    }
   ],
   "source": [
    "# Selecionar primeiro arquivo listado\n",
    "os.listdir(path)[0]"
   ]
  },
  {
   "cell_type": "code",
   "execution_count": 48,
   "id": "0bbaff2a-8f88-480a-8ea7-702a475e94b6",
   "metadata": {},
   "outputs": [
    {
     "data": {
      "text/plain": [
       "'C:\\\\Users\\\\sergi\\\\OneDrive\\\\Documentos\\\\GitHub\\\\ENS5173_202401/.git'"
      ]
     },
     "execution_count": 48,
     "metadata": {},
     "output_type": "execute_result"
    }
   ],
   "source": [
    "# Concatenando caminhos\n",
    "path+\"/\"+os.listdir(path)[0]"
   ]
  },
  {
   "cell_type": "code",
   "execution_count": 49,
   "id": "24be8ac1-3ca3-41b7-9f99-c4d875e1f0f1",
   "metadata": {},
   "outputs": [
    {
     "data": {
      "text/plain": [
       "['COMMIT_EDITMSG',\n",
       " 'config',\n",
       " 'description',\n",
       " 'FETCH_HEAD',\n",
       " 'HEAD',\n",
       " 'hooks',\n",
       " 'index',\n",
       " 'info',\n",
       " 'logs',\n",
       " 'objects',\n",
       " 'packed-refs',\n",
       " 'refs']"
      ]
     },
     "execution_count": 49,
     "metadata": {},
     "output_type": "execute_result"
    }
   ],
   "source": [
    "# Listando caminho concatenado\n",
    "os.listdir(path+\"/\"+os.listdir(path)[0])"
   ]
  },
  {
   "cell_type": "code",
   "execution_count": 50,
   "id": "ccf85a9a-cabd-4c02-89f1-ec0fba0164ad",
   "metadata": {},
   "outputs": [
    {
     "data": {
      "text/plain": [
       "'C:\\\\Users\\\\sergi\\\\OneDrive\\\\Documentos\\\\GitHub\\\\ENS5173_202401\\\\venv\\\\Scripts'"
      ]
     },
     "execution_count": 50,
     "metadata": {},
     "output_type": "execute_result"
    }
   ],
   "source": [
    "# Diretório que estou trababalhando\n",
    "os.getcwd()"
   ]
  },
  {
   "cell_type": "code",
   "execution_count": 55,
   "id": "3015a66e-7e89-4809-be81-384da0741e27",
   "metadata": {},
   "outputs": [],
   "source": [
    "# Mudo de diretório para o caminho \n",
    "os.chdir('C:\\\\Users\\\\sergi\\\\Documents\\\\')"
   ]
  },
  {
   "cell_type": "code",
   "execution_count": 56,
   "id": "b4e20467-2b4f-43d3-a61e-7784ae88512e",
   "metadata": {},
   "outputs": [
    {
     "data": {
      "text/plain": [
       "'C:\\\\Users\\\\sergi\\\\Documents'"
      ]
     },
     "execution_count": 56,
     "metadata": {},
     "output_type": "execute_result"
    }
   ],
   "source": [
    "os.getcwd()"
   ]
  },
  {
   "cell_type": "code",
   "execution_count": 57,
   "id": "686100df-d621-4305-b3b9-1cad63dee823",
   "metadata": {},
   "outputs": [
    {
     "name": "stdout",
     "output_type": "stream",
     "text": [
      "Criando diretório C:\\Users\\sergi\\Documents/test\n"
     ]
    }
   ],
   "source": [
    "# Criando diretório\n",
    "new_path = os.getcwd()+'/test'\n",
    "\n",
    "if os.path.isdir(new_path):\n",
    "    print('diretório já existe')\n",
    "else:\n",
    "    print('Criando diretório '+new_path)\n",
    "    os.mkdir(new_path)"
   ]
  },
  {
   "cell_type": "code",
   "execution_count": 58,
   "id": "aff5b106-b0f5-495b-aa0d-8daed038a367",
   "metadata": {},
   "outputs": [
    {
     "name": "stdout",
     "output_type": "stream",
     "text": [
      "Criando diretório C:\\Users\\sergi\\Documents/test2\n"
     ]
    }
   ],
   "source": [
    "# Criando diretório\n",
    "new_path = os.getcwd()+'/test2'\n",
    "\n",
    "if os.path.isdir(new_path):\n",
    "    print('diretório já existe')\n",
    "    # Criando um arquivo de texto\n",
    "    with open(new_path+\"/copy.txt\", \"w\") as file:\n",
    "        file.write(\"Your text goes here\")\n",
    "else:\n",
    "    print('Criando diretório '+new_path)\n",
    "    os.mkdir(new_path)\n",
    "    with open(new_path+\"/copy.txt\", \"w\") as file:\n",
    "        file.write(\"Your text goes here\")"
   ]
  },
  {
   "cell_type": "markdown",
   "id": "57720624-1289-403a-88b3-d262e63d2e28",
   "metadata": {},
   "source": [
    "## Numpy arrays e Pandas DataFrames"
   ]
  },
  {
   "cell_type": "code",
   "execution_count": 59,
   "id": "5947e099-21de-4ef0-8dfe-18c5ab5bd460",
   "metadata": {},
   "outputs": [
    {
     "data": {
      "text/plain": [
       "numpy.ndarray"
      ]
     },
     "execution_count": 59,
     "metadata": {},
     "output_type": "execute_result"
    }
   ],
   "source": [
    "import numpy as np\n",
    "# Criando uma variável numpy\n",
    "n = np.array(0)\n",
    "type(n)"
   ]
  },
  {
   "cell_type": "code",
   "execution_count": 60,
   "id": "b25b966e-aa6a-4081-b8c6-38245022acbe",
   "metadata": {},
   "outputs": [
    {
     "name": "stdout",
     "output_type": "stream",
     "text": [
      "[ 1  2  3 10 20 55]\n"
     ]
    }
   ],
   "source": [
    "# Criando uma variável numpy a partir de uma lista\n",
    "myThirdList=[1,2,3,10,20,55]\n",
    "n = np.array(myThirdList)\n",
    "print(n)"
   ]
  },
  {
   "cell_type": "code",
   "execution_count": 61,
   "id": "d0fd0ce4-02ce-4d2d-932d-ced349d3b33d",
   "metadata": {},
   "outputs": [
    {
     "name": "stdout",
     "output_type": "stream",
     "text": [
      "[[0.81045911 0.44813677 0.02997048 0.64345482 0.24222599 0.77579966\n",
      "  0.81115283 0.3925947  0.65576618 0.57871493]\n",
      " [0.04521828 0.48071746 0.5652111  0.12939277 0.47904792 0.9021299\n",
      "  0.13118688 0.82846959 0.20972121 0.6172571 ]\n",
      " [0.49967865 0.08114464 0.75092947 0.36763719 0.99580259 0.1974338\n",
      "  0.6307924  0.87392048 0.72161934 0.90975592]\n",
      " [0.74213298 0.05306722 0.73713865 0.38672169 0.82865679 0.53390384\n",
      "  0.55674916 0.7521603  0.14384133 0.47568445]\n",
      " [0.56695656 0.88511253 0.71517292 0.25993606 0.28198198 0.15813503\n",
      "  0.54871922 0.9287687  0.90561839 0.22397563]\n",
      " [0.36905515 0.4637775  0.06488288 0.37931199 0.83717625 0.33218211\n",
      "  0.19239799 0.23479356 0.16378568 0.6517253 ]\n",
      " [0.597906   0.67793253 0.19223443 0.63189841 0.57810042 0.38248993\n",
      "  0.4017963  0.69111973 0.21358281 0.89572804]\n",
      " [0.90789617 0.63873835 0.18789167 0.57846368 0.77790602 0.73068369\n",
      "  0.60438598 0.18528409 0.2982323  0.43139089]\n",
      " [0.62813511 0.75889975 0.31674979 0.78656706 0.38175115 0.30291248\n",
      "  0.89252279 0.32081039 0.72567342 0.42941611]\n",
      " [0.01025256 0.92702909 0.53942274 0.6942686  0.42728286 0.61420412\n",
      "  0.51086799 0.91755845 0.55315467 0.36409262]]\n",
      "(10, 10)\n"
     ]
    }
   ],
   "source": [
    "# Criando uma matriz de 10x10 de números aleatórios entre 0 e 1\n",
    "n = np.random.rand(10,10)\n",
    "print(n)\n",
    "# Dimensões da matrix\n",
    "print(n.shape)"
   ]
  },
  {
   "cell_type": "code",
   "execution_count": 62,
   "id": "305c0b03-af13-418c-8f84-9e0546be7072",
   "metadata": {},
   "outputs": [
    {
     "data": {
      "text/plain": [
       "array([0.81045911, 0.44813677, 0.02997048, 0.64345482, 0.24222599,\n",
       "       0.77579966, 0.81115283, 0.3925947 , 0.65576618, 0.57871493])"
      ]
     },
     "execution_count": 62,
     "metadata": {},
     "output_type": "execute_result"
    }
   ],
   "source": [
    "# Acessando valores da matriz\n",
    "n[0,:]"
   ]
  },
  {
   "cell_type": "code",
   "execution_count": 63,
   "id": "badf1fec-6aea-4821-8fa8-b778820d6bdb",
   "metadata": {},
   "outputs": [
    {
     "data": {
      "text/plain": [
       "array([0.81045911, 0.04521828, 0.49967865, 0.74213298, 0.56695656,\n",
       "       0.36905515, 0.597906  , 0.90789617, 0.62813511, 0.01025256])"
      ]
     },
     "execution_count": 63,
     "metadata": {},
     "output_type": "execute_result"
    }
   ],
   "source": [
    "n[:,0]"
   ]
  },
  {
   "cell_type": "code",
   "execution_count": 64,
   "id": "15a72763-056e-4678-8be7-99dc296df9ea",
   "metadata": {},
   "outputs": [
    {
     "data": {
      "text/plain": [
       "array([[0.44813677, 0.02997048, 0.64345482, 0.24222599],\n",
       "       [0.48071746, 0.5652111 , 0.12939277, 0.47904792],\n",
       "       [0.08114464, 0.75092947, 0.36763719, 0.99580259],\n",
       "       [0.05306722, 0.73713865, 0.38672169, 0.82865679],\n",
       "       [0.88511253, 0.71517292, 0.25993606, 0.28198198],\n",
       "       [0.4637775 , 0.06488288, 0.37931199, 0.83717625],\n",
       "       [0.67793253, 0.19223443, 0.63189841, 0.57810042],\n",
       "       [0.63873835, 0.18789167, 0.57846368, 0.77790602],\n",
       "       [0.75889975, 0.31674979, 0.78656706, 0.38175115],\n",
       "       [0.92702909, 0.53942274, 0.6942686 , 0.42728286]])"
      ]
     },
     "execution_count": 64,
     "metadata": {},
     "output_type": "execute_result"
    }
   ],
   "source": [
    "\n",
    "n[:,1:5]"
   ]
  },
  {
   "cell_type": "code",
   "execution_count": 65,
   "id": "a8aa900c-fdc4-4877-81e2-80a9908c7242",
   "metadata": {},
   "outputs": [
    {
     "data": {
      "text/plain": [
       "array([0.44813677, 0.02997048, 0.64345482, 0.24222599])"
      ]
     },
     "execution_count": 65,
     "metadata": {},
     "output_type": "execute_result"
    }
   ],
   "source": [
    "n[0,1:5]"
   ]
  },
  {
   "cell_type": "code",
   "execution_count": 66,
   "id": "571bd688-0f20-4d1f-9469-cc83445d72f3",
   "metadata": {},
   "outputs": [
    {
     "data": {
      "text/plain": [
       "0.5787149320894572"
      ]
     },
     "execution_count": 66,
     "metadata": {},
     "output_type": "execute_result"
    }
   ],
   "source": [
    "\n",
    "n[0,-1]"
   ]
  },
  {
   "cell_type": "code",
   "execution_count": 68,
   "id": "0cde8f66-75fa-4547-871c-8d3b3a293b7b",
   "metadata": {},
   "outputs": [
    {
     "data": {
      "text/plain": [
       "array([0.24222599, 0.77579966, 0.81115283, 0.3925947 , 0.65576618])"
      ]
     },
     "execution_count": 68,
     "metadata": {},
     "output_type": "execute_result"
    }
   ],
   "source": [
    "n[0,4:-1]\n"
   ]
  },
  {
   "cell_type": "code",
   "execution_count": 69,
   "id": "d256b4b9-fdaf-4863-aba4-fff13570980b",
   "metadata": {},
   "outputs": [
    {
     "data": {
      "text/plain": [
       "array([0.24222599, 0.77579966, 0.81115283, 0.3925947 , 0.65576618,\n",
       "       0.57871493])"
      ]
     },
     "execution_count": 69,
     "metadata": {},
     "output_type": "execute_result"
    }
   ],
   "source": [
    "n[0,4:]"
   ]
  },
  {
   "cell_type": "code",
   "execution_count": 70,
   "id": "f5aa1112-eaa9-4c19-afe9-eefd9b79dec3",
   "metadata": {},
   "outputs": [
    {
     "name": "stdout",
     "output_type": "stream",
     "text": [
      "[[ 1.39928352  0.80678112 -1.89810452  1.16853445  0.19155375  1.35557695\n",
      "   1.40013912  0.67446042  1.18748692  1.06249264]\n",
      " [-1.48681596  0.87696233  1.03888192 -0.43546488  0.87348327  1.50644115\n",
      "  -0.42169452  1.42126276  0.04746172  1.12696826]\n",
      " [ 0.91564782 -0.90208411  1.32299437  0.60877919  1.60523167 -0.01291403\n",
      "   1.14865943  1.47467203  1.2831804   1.51485898]\n",
      " [ 1.31121107 -1.32675789  1.30445863  0.65938791  1.42148869  0.98189838\n",
      "   1.02379743  1.3246321  -0.32960654  0.86643735]\n",
      " [ 1.04196532  1.48739742  1.27420699  0.26211829  0.3435258  -0.23486809\n",
      "   1.0092695   1.53554237  1.51030065  0.11321986]\n",
      " [ 0.61262872  0.84108755 -1.12573363  0.6400417   1.43171726  0.50736598\n",
      "  -0.03875128  0.16038929 -0.19975863  1.18130579]\n",
      " [ 1.09511619  1.2207304  -0.03960174  1.15041127  1.06143023  0.64838495\n",
      "   0.69762787  1.23999571  0.06570727  1.49931947]\n",
      " [ 1.51281265  1.16117753 -0.06245179  1.06205839  1.35828835  1.29566329\n",
      "   1.10589567 -0.07642709  0.39955535  0.76869725]\n",
      " [ 1.14443792  1.33355233  0.45979478  1.36936062  0.64645159  0.41512655\n",
      "   1.49573468  0.4725329   1.28878272  0.76410903]\n",
      " [-2.97078949  1.53366758  0.99218219  1.24454155  0.75912886  1.12200994\n",
      "   0.93779386  1.52339892  1.01732029  0.59909092]]\n"
     ]
    }
   ],
   "source": [
    "an = np.log(n*5)\n",
    "print(an)"
   ]
  },
  {
   "cell_type": "code",
   "execution_count": null,
   "id": "30ee27f9-35aa-4541-a7eb-34272d309868",
   "metadata": {},
   "outputs": [],
   "source": []
  }
 ],
 "metadata": {
  "kernelspec": {
   "display_name": "Python 3 (ipykernel)",
   "language": "python",
   "name": "python3"
  },
  "language_info": {
   "codemirror_mode": {
    "name": "ipython",
    "version": 3
   },
   "file_extension": ".py",
   "mimetype": "text/x-python",
   "name": "python",
   "nbconvert_exporter": "python",
   "pygments_lexer": "ipython3",
   "version": "3.11.8"
  }
 },
 "nbformat": 4,
 "nbformat_minor": 5
}
