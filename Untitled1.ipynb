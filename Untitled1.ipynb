{
 "cells": [
  {
   "cell_type": "code",
   "execution_count": 2,
   "id": "26593853-5725-4961-8ad2-8885245eeb7c",
   "metadata": {},
   "outputs": [
    {
     "name": "stdout",
     "output_type": "stream",
     "text": [
      "guilherme gente fina\n"
     ]
    }
   ],
   "source": [
    "# Tipos de variáveis - string\n",
    "a= \"guilherme\"\n",
    "b= a + \" gente fina\"\n",
    "print(b)"
   ]
  },
  {
   "cell_type": "code",
   "execution_count": 4,
   "id": "12cb9cee-4b2f-45a5-82c6-b5c16c45338f",
   "metadata": {},
   "outputs": [
    {
     "name": "stdout",
     "output_type": "stream",
     "text": [
      "11\n",
      "<class 'int'>\n"
     ]
    }
   ],
   "source": [
    "# Tipos de variáveis - inteira\n",
    "\n",
    "c= 1\n",
    "d= c+10\n",
    "print(d)\n",
    "print(type(d))\n"
   ]
  },
  {
   "cell_type": "code",
   "execution_count": 11,
   "id": "e9ea9f4f-8faa-4bec-9a3e-81d54c6fe124",
   "metadata": {},
   "outputs": [
    {
     "name": "stdout",
     "output_type": "stream",
     "text": [
      "valor de g = 21.0 e o valor de h = 110.25\n",
      "<class 'float'>\n",
      " o valor de f= 10do tipo = <class 'int'>\n"
     ]
    }
   ],
   "source": [
    "#Tipos de variáveis - float\n",
    "\n",
    "f= 10.5\n",
    "g= f*2\n",
    "h= f**2\n",
    "print(\"valor de g = \" +str(g) + \" e o valor de h = \" +str(h))\n",
    "print(type(f))\n",
    "f= int(f)\n",
    "print(' o valor de f= ' +str(f)+ \"do tipo = \" +str(type(f)))"
   ]
  },
  {
   "cell_type": "code",
   "execution_count": 14,
   "id": "139eff03-da27-4507-940c-d4884349f52b",
   "metadata": {},
   "outputs": [
    {
     "name": "stdout",
     "output_type": "stream",
     "text": [
      "['Guilherme', 'Flávia', 'Lucas']\n",
      "[3, 6, 6]\n",
      "<class 'list'>\n"
     ]
    }
   ],
   "source": [
    "# Exemplo dicionário \n",
    "\n",
    "dicionario = {\n",
    "    'alunos': ['Guilherme', 'Flávia' , 'Lucas'],\n",
    "    'notas' : [3, 6, 6]\n",
    "}\n",
    "print(dicionario[\"alunos\"])\n",
    "print(dicionario[\"notas\"])\n",
    "print(type(dicionario['notas']))"
   ]
  },
  {
   "cell_type": "code",
   "execution_count": 23,
   "id": "ac18c1da-5dd9-4c55-8892-346ced63bb4a",
   "metadata": {},
   "outputs": [
    {
     "name": "stdout",
     "output_type": "stream",
     "text": [
      "0 Guilhermenota = 10\n",
      "1 Flávia nota = 6\n",
      "2 Lucas nota = 6\n"
     ]
    }
   ],
   "source": [
    "# treinando loop\n",
    "\n",
    "for ii,aluno in enumerate (dicionario ['alunos']):\n",
    "    if aluno == 'Guilherme':\n",
    "        print(str(ii) + ' ' + aluno + 'nota = 10')\n",
    "    else:\n",
    "        print(str(ii) + ' '+ aluno + ' nota = ' + str(dicionario['notas'] [ii]))\n",
    "    \n"
   ]
  },
  {
   "cell_type": "code",
   "execution_count": 32,
   "id": "5ec921f6-0fe4-412d-813e-0f6d985e46f1",
   "metadata": {},
   "outputs": [
    {
     "name": "stdout",
     "output_type": "stream",
     "text": [
      "False\n",
      "True\n",
      "False\n",
      "True\n",
      "True\n",
      "False\n",
      "<class 'bool'>\n"
     ]
    }
   ],
   "source": [
    "# Operações Lógicas\n",
    "a = 1\n",
    "b= 3\n",
    "c = 1\n",
    "\n",
    "print (a==b) # Igual a =- operaçõo lógica\n",
    "print (a==c)\n",
    "print (a>b)\n",
    "print (a<b)\n",
    "print (a!=b) #DIFERENTE\n",
    "print (a!=c)\n",
    "\n",
    "opTF = a!=c\n",
    "print(type(opTF))\n",
    "\n",
    "OPT = True\n",
    "opF = False"
   ]
  },
  {
   "cell_type": "code",
   "execution_count": 33,
   "id": "3d762ea3-8d08-4e40-8f72-9bdb052a37a1",
   "metadata": {},
   "outputs": [
    {
     "name": "stdout",
     "output_type": "stream",
     "text": [
      "0 Guilhermenota = 10\n",
      "1 Flávia nota = 6\n",
      "2 Lucas nota = 6\n"
     ]
    }
   ],
   "source": [
    "# treinando loop com condição\n",
    "\n",
    "for ii,aluno in enumerate (dicionario ['alunos']):\n",
    "    if (aluno == 'Guilherme') and (dicionario ['notas'] [ii] <=9):\n",
    "        print(str(ii) + ' ' + aluno + 'nota = 10')\n",
    "    else:\n",
    "        print(str(ii) + ' '+ aluno + ' nota = ' + str(dicionario['notas'] [ii]))"
   ]
  },
  {
   "cell_type": "code",
   "execution_count": 37,
   "id": "4a9e565a-8060-46d5-ad79-51bbc8f10d69",
   "metadata": {},
   "outputs": [
    {
     "name": "stdout",
     "output_type": "stream",
     "text": [
      "['Guilherme' 'Flávia' 'Lucas']\n",
      "<class 'numpy.ndarray'>\n",
      " \n",
      "False\n",
      "(array([], dtype=int64),)\n",
      "\n"
     ]
    },
    {
     "name": "stderr",
     "output_type": "stream",
     "text": [
      "C:\\Users\\sergi\\AppData\\Local\\Temp\\ipykernel_17552\\969162086.py:13: DeprecationWarning: Calling nonzero on 0d arrays is deprecated, as it behaves surprisingly. Use `atleast_1d(cond).nonzero()` if the old behavior was intended. If the context of this warning is of the form `arr[nonzero(cond)]`, just use `arr[cond]`.\n",
      "  print(np.where(mat2))\n",
      "C:\\Users\\sergi\\AppData\\Local\\Temp\\ipykernel_17552\\969162086.py:16: DeprecationWarning: Calling nonzero on 0d arrays is deprecated, as it behaves surprisingly. Use `atleast_1d(cond).nonzero()` if the old behavior was intended. If the context of this warning is of the form `arr[nonzero(cond)]`, just use `arr[cond]`.\n",
      "  dicionario ['notas'][int(np.where(mat2)[0])] = 9.5\n"
     ]
    },
    {
     "ename": "TypeError",
     "evalue": "only length-1 arrays can be converted to Python scalars",
     "output_type": "error",
     "traceback": [
      "\u001b[1;31m---------------------------------------------------------------------------\u001b[0m",
      "\u001b[1;31mTypeError\u001b[0m                                 Traceback (most recent call last)",
      "Cell \u001b[1;32mIn[37], line 16\u001b[0m\n\u001b[0;32m     13\u001b[0m \u001b[38;5;28mprint\u001b[39m(np\u001b[38;5;241m.\u001b[39mwhere(mat2))\n\u001b[0;32m     15\u001b[0m \u001b[38;5;28mprint\u001b[39m(\u001b[38;5;124m\"\u001b[39m\u001b[38;5;124m\"\u001b[39m)\n\u001b[1;32m---> 16\u001b[0m dicionario [\u001b[38;5;124m'\u001b[39m\u001b[38;5;124mnotas\u001b[39m\u001b[38;5;124m'\u001b[39m][\u001b[38;5;28;43mint\u001b[39;49m\u001b[43m(\u001b[49m\u001b[43mnp\u001b[49m\u001b[38;5;241;43m.\u001b[39;49m\u001b[43mwhere\u001b[49m\u001b[43m(\u001b[49m\u001b[43mmat2\u001b[49m\u001b[43m)\u001b[49m\u001b[43m[\u001b[49m\u001b[38;5;241;43m0\u001b[39;49m\u001b[43m]\u001b[49m\u001b[43m)\u001b[49m] \u001b[38;5;241m=\u001b[39m \u001b[38;5;241m9.5\u001b[39m\n",
      "\u001b[1;31mTypeError\u001b[0m: only length-1 arrays can be converted to Python scalars"
     ]
    }
   ],
   "source": [
    "#Treinando numpy\n",
    "\n",
    "import numpy as np\n",
    "mat = np.array(dicionario['alunos'])\n",
    "print(mat)\n",
    "print(type(mat))\n",
    "\n",
    "print(' ')\n",
    "mat2 = np.array(dicionario['alunos']=='Lucas')\n",
    "print(mat2)\n",
    "\n",
    "# Local da matriz com valor verdadeiro\n",
    "print(np.where(mat2))\n",
    "\n",
    "print(\"\")\n",
    "dicionario ['notas'][int(np.where(mat2)[0])] = 9.5"
   ]
  },
  {
   "cell_type": "code",
   "execution_count": 40,
   "id": "c03fa160-412e-430a-a706-415cb56e8791",
   "metadata": {},
   "outputs": [
    {
     "name": "stdout",
     "output_type": "stream",
     "text": [
      "[0.19965229 0.58085484 0.95829264 0.27517861 0.19879794 0.95209515\n",
      " 0.86792675 0.01335643 0.08447186 0.92236319 0.57215143 0.95392023\n",
      " 0.88957993 0.46495606 0.00432537 0.98767768 0.78404768 0.32061566\n",
      " 0.06557134 0.14357645 0.86885381 0.94926279 0.93627759 0.9272672\n",
      " 0.14035318 0.88436662 0.01589309 0.88412582 0.21566914 0.44671082\n",
      " 0.75635565 0.98685166 0.27347359 0.56726798 0.73071532 0.67365985\n",
      " 0.35558305 0.29122779 0.26436057 0.87337296 0.67306815 0.58779358\n",
      " 0.4628729  0.27394318 0.39205689 0.28239779 0.5686928  0.44401497\n",
      " 0.28052806 0.0314098  0.8180612  0.39420045 0.45482854 0.0737937\n",
      " 0.64089884 0.49003679 0.58446461 0.00494842 0.58084181 0.56511575\n",
      " 0.36470917 0.39732044 0.48991143 0.65096149 0.62676815 0.75024531\n",
      " 0.2188563  0.95618992 0.17071058 0.32225203 0.90840671 0.25611872\n",
      " 0.34874036 0.67948155 0.14251459 0.22694601 0.87321943 0.59927072\n",
      " 0.82949413 0.08577446 0.15837107 0.1912873  0.21527339 0.23289644\n",
      " 0.78521876 0.2124906  0.8500142  0.2766121  0.58305329 0.28856193\n",
      " 0.58157834 0.06442689 0.09370641 0.90081698 0.8845689  0.67885341\n",
      " 0.27197332 0.76128975 0.58963855 0.25549336]\n",
      "[0.19832853 0.54873878 0.81821117 0.27171883 0.19749109 0.81463243\n",
      " 0.76299041 0.01335604 0.08437144 0.79703107 0.54144209 0.81568958\n",
      " 0.77680728 0.44838352 0.00432536 0.83474949 0.7061512  0.31515091\n",
      " 0.06552437 0.14308367 0.76358934 0.81298646 0.80535708 0.79998319\n",
      " 0.13989283 0.77351372 0.01589242 0.77336108 0.21400111 0.43200146\n",
      " 0.68627532 0.83429437 0.27007757 0.53732995 0.6674025  0.62385049\n",
      " 0.348137   0.28712853 0.2612921  0.76649956 0.62338794 0.55452627\n",
      " 0.44652054 0.27052967 0.38209004 0.27865926 0.53853105 0.42956858\n",
      " 0.27686311 0.03140464 0.72982177 0.38407008 0.43930829 0.07372674\n",
      " 0.59791616 0.47065835 0.55175294 0.0049484  0.54872788 0.53551357\n",
      " 0.35667761 0.38694891 0.47054773 0.60595156 0.58653026 0.68181823\n",
      " 0.21711335 0.81700047 0.16988264 0.31670347 0.78852486 0.2533278\n",
      " 0.34171426 0.6283898  0.14203266 0.2250029  0.76640095 0.56404042\n",
      " 0.73758988 0.08566932 0.15770987 0.19012287 0.21361452 0.23079673\n",
      " 0.70697992 0.21089514 0.75128977 0.27309811 0.55057534 0.28457391\n",
      " 0.54934348 0.06438233 0.09356933 0.78383449 0.77364191 0.62790105\n",
      " 0.26863274 0.68985573 0.55606064 0.25272278]\n"
     ]
    }
   ],
   "source": [
    "#Matriz numpy\n",
    "\n",
    "vec = np.random.rand(100)\n",
    "print(vec)\n",
    "vec2 = np.sin(vec)\n",
    "print(vec2)\n"
   ]
  },
  {
   "cell_type": "code",
   "execution_count": 41,
   "id": "6f064efc-2683-4a31-bede-9f20814c564f",
   "metadata": {},
   "outputs": [
    {
     "ename": "SyntaxError",
     "evalue": "unmatched ')' (2287540499.py, line 13)",
     "output_type": "error",
     "traceback": [
      "\u001b[1;36m  Cell \u001b[1;32mIn[41], line 13\u001b[1;36m\u001b[0m\n\u001b[1;33m    for i in range90,vec.shape[0]):\u001b[0m\n\u001b[1;37m                                 ^\u001b[0m\n\u001b[1;31mSyntaxError\u001b[0m\u001b[1;31m:\u001b[0m unmatched ')'\n"
     ]
    }
   ],
   "source": [
    "#Date time\n",
    "\n",
    "from datetime import datetime, timedelta\n",
    "\n",
    "#Data inicial\n",
    "start_date = datetime(2024, 1, 1)\n",
    "\n",
    "#armezenar\n",
    "date_vetor = []\n",
    "\n",
    "#GERAR datas para todos\n",
    "print(vec.shape[0])\n",
    "for i in range90,vec.shape[0]):\n",
    "    date_vetor.append(start_date+ timedelta(days=1))\n",
    "\n",
    "# Exibir\n",
    "for date in date_vetor:\n",
    "    print(date.strftime( '%Y-%m- %d'))\n"
   ]
  },
  {
   "cell_type": "code",
   "execution_count": null,
   "id": "5ed87843-88d6-4ff0-8427-8403bd75d786",
   "metadata": {},
   "outputs": [],
   "source": []
  }
 ],
 "metadata": {
  "kernelspec": {
   "display_name": "Python 3 (ipykernel)",
   "language": "python",
   "name": "python3"
  },
  "language_info": {
   "codemirror_mode": {
    "name": "ipython",
    "version": 3
   },
   "file_extension": ".py",
   "mimetype": "text/x-python",
   "name": "python",
   "nbconvert_exporter": "python",
   "pygments_lexer": "ipython3",
   "version": "3.11.8"
  }
 },
 "nbformat": 4,
 "nbformat_minor": 5
}
