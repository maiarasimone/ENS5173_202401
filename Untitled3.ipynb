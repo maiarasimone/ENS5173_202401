{
 "cells": [
  {
   "cell_type": "code",
   "execution_count": 5,
   "id": "c5ab6de6-a3ca-4144-95e4-2537179f80a9",
   "metadata": {},
   "outputs": [
    {
     "name": "stdout",
     "output_type": "stream",
     "text": [
      "O arquivo chp_10_2.csv não foi encontrado na pasta C:\\Users\\sergi\\OneDrive\\Documentos\\GitHub\\ENS5173_202401\\tabelas\\FE.\n"
     ]
    }
   ],
   "source": [
    "import os\n",
    "import pandas as pd\n",
    "\n",
    "# Obtendo o caminho do diretório atual\n",
    "cwd = os.getcwd()\n",
    "\n",
    "# Construindo o caminho completo para o arquivo CSV\n",
    "csv_folder = os.path.join(cwd, \"tabelas\", \"FE\")\n",
    "csv_file_name = \"chp_10_2.csv\"\n",
    "csv_file_path = os.path.join(csv_folder, csv_file_name)\n",
    "\n",
    "# Verificando se o arquivo existe antes de tentar abri-lo\n",
    "if os.path.exists(csv_file_path):\n",
    "    # Abrindo o arquivo CSV\n",
    "    csv_data = pd.read_csv(csv_file_path)\n",
    "    # Você pode fazer operações adicionais aqui, como ler dados do arquivo\n",
    "    print(csv_data.head())  # Exemplo: imprimindo as primeiras linhas do arquivo\n",
    "else:\n",
    "    print(f\"O arquivo {csv_file_name} não foi encontrado na pasta {csv_folder}.\")\n",
    "\n",
    "\n",
    "\n",
    "\n"
   ]
  },
  {
   "cell_type": "code",
   "execution_count": null,
   "id": "4d83a89f-c775-4d14-91cd-57ec5a82735c",
   "metadata": {},
   "outputs": [],
   "source": []
  }
 ],
 "metadata": {
  "kernelspec": {
   "display_name": "Python 3 (ipykernel)",
   "language": "python",
   "name": "python3"
  },
  "language_info": {
   "codemirror_mode": {
    "name": "ipython",
    "version": 3
   },
   "file_extension": ".py",
   "mimetype": "text/x-python",
   "name": "python",
   "nbconvert_exporter": "python",
   "pygments_lexer": "ipython3",
   "version": "3.11.8"
  }
 },
 "nbformat": 4,
 "nbformat_minor": 5
}
