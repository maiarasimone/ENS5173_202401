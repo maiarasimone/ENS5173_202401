{
 "cells": [
  {
   "cell_type": "markdown",
   "id": "92d33e42-d026-4492-87e1-0afaa3944160",
   "metadata": {},
   "source": [
    "# Aula 03/04/2024 - Comandos básicos no Python\n",
    "\n",
    "Nesta aula aprenderemos a importar pacotes e os tipos de váriaveis/\n",
    "Desenvolvedor: Leonardo Hoinaski\n"
   ]
  },
  {
   "cell_type": "markdown",
   "id": "e5667828-d734-4293-866d-11195d5cc795",
   "metadata": {},
   "source": [
    "## Tipos de variáveis\n"
   ]
  },
  {
   "cell_type": "code",
   "execution_count": 7,
   "id": "1936cb40-8b5c-4841-8332-128a6a76acce",
   "metadata": {},
   "outputs": [
    {
     "name": "stdout",
     "output_type": "stream",
     "text": [
      "a=1.0\n",
      "<class 'float'>\n"
     ]
    }
   ],
   "source": [
    "# criando variáveis inteiras\n",
    "a = 1.0\n",
    "print(\"a=\"+str(a))\n",
    "print(type(a))"
   ]
  },
  {
   "cell_type": "code",
   "execution_count": 8,
   "id": "98445efb-cd32-4934-abb4-4fe854e69cb7",
   "metadata": {},
   "outputs": [
    {
     "name": "stdout",
     "output_type": "stream",
     "text": [
      "Salve o Corinthias\n",
      "<class 'str'>\n"
     ]
    }
   ],
   "source": [
    "# criando variáveis string\n",
    "b='Salve o '\n",
    "c = 'Corinthias'\n",
    "print(b+c)\n",
    "print(type(b))"
   ]
  },
  {
   "cell_type": "code",
   "execution_count": 1,
   "id": "fb5aa958-d3b1-4f2e-ad53-376b4794ada5",
   "metadata": {},
   "outputs": [
    {
     "name": "stdout",
     "output_type": "stream",
     "text": [
      "666.666\n",
      "<class 'float'>\n"
     ]
    }
   ],
   "source": [
    "# Criando variáveis float/double precision\n",
    "d = 666.666\n",
    "print(d)\n",
    "print(type(d))\n",
    "      "
   ]
  }
 ],
 "metadata": {
  "kernelspec": {
   "display_name": "Python 3 (ipykernel)",
   "language": "python",
   "name": "python3"
  },
  "language_info": {
   "codemirror_mode": {
    "name": "ipython",
    "version": 3
   },
   "file_extension": ".py",
   "mimetype": "text/x-python",
   "name": "python",
   "nbconvert_exporter": "python",
   "pygments_lexer": "ipython3",
   "version": "3.11.8"
  }
 },
 "nbformat": 4,
 "nbformat_minor": 5
}
